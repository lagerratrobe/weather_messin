{
 "cells": [
  {
   "cell_type": "code",
   "execution_count": 1,
   "id": "c1184a97-8b3f-401d-9e30-ce59d224909b",
   "metadata": {},
   "outputs": [],
   "source": [
    "import pandas as pd\n",
    "import seaborn as sb\n",
    "import numpy as np\n",
    "from matplotlib import pyplot as plt\n",
    "from glob import glob"
   ]
  },
  {
   "cell_type": "code",
   "execution_count": 2,
   "id": "fe3c907d-5367-4afd-90f6-b5486a564cbf",
   "metadata": {},
   "outputs": [
    {
     "data": {
      "text/html": [
       "<div>\n",
       "<style scoped>\n",
       "    .dataframe tbody tr th:only-of-type {\n",
       "        vertical-align: middle;\n",
       "    }\n",
       "\n",
       "    .dataframe tbody tr th {\n",
       "        vertical-align: top;\n",
       "    }\n",
       "\n",
       "    .dataframe thead th {\n",
       "        text-align: right;\n",
       "    }\n",
       "</style>\n",
       "<table border=\"1\" class=\"dataframe\">\n",
       "  <thead>\n",
       "    <tr style=\"text-align: right;\">\n",
       "      <th></th>\n",
       "      <th>stationID</th>\n",
       "      <th>obsTimeLocal</th>\n",
       "      <th>imperial.temp</th>\n",
       "      <th>imperial.precipTotal</th>\n",
       "      <th>datetime</th>\n",
       "      <th>year</th>\n",
       "      <th>date</th>\n",
       "      <th>TimeOnly</th>\n",
       "    </tr>\n",
       "  </thead>\n",
       "  <tbody>\n",
       "    <tr>\n",
       "      <th>132</th>\n",
       "      <td>KWASEATT2743</td>\n",
       "      <td>2022-08-04 00:59:44</td>\n",
       "      <td>59.0</td>\n",
       "      <td>0.0</td>\n",
       "      <td>2022-08-04 00:59:44</td>\n",
       "      <td>2022</td>\n",
       "      <td>2022-08-04</td>\n",
       "      <td>0:59</td>\n",
       "    </tr>\n",
       "    <tr>\n",
       "      <th>133</th>\n",
       "      <td>KWASEATT2743</td>\n",
       "      <td>2022-08-04 01:59:59</td>\n",
       "      <td>59.0</td>\n",
       "      <td>0.0</td>\n",
       "      <td>2022-08-04 01:59:59</td>\n",
       "      <td>2022</td>\n",
       "      <td>2022-08-04</td>\n",
       "      <td>1:59</td>\n",
       "    </tr>\n",
       "    <tr>\n",
       "      <th>134</th>\n",
       "      <td>KWASEATT2743</td>\n",
       "      <td>2022-08-04 02:59:56</td>\n",
       "      <td>59.0</td>\n",
       "      <td>0.0</td>\n",
       "      <td>2022-08-04 02:59:56</td>\n",
       "      <td>2022</td>\n",
       "      <td>2022-08-04</td>\n",
       "      <td>2:59</td>\n",
       "    </tr>\n",
       "    <tr>\n",
       "      <th>135</th>\n",
       "      <td>KWASEATT2743</td>\n",
       "      <td>2022-08-04 03:59:54</td>\n",
       "      <td>58.0</td>\n",
       "      <td>0.0</td>\n",
       "      <td>2022-08-04 03:59:54</td>\n",
       "      <td>2022</td>\n",
       "      <td>2022-08-04</td>\n",
       "      <td>3:59</td>\n",
       "    </tr>\n",
       "    <tr>\n",
       "      <th>136</th>\n",
       "      <td>KWASEATT2743</td>\n",
       "      <td>2022-08-04 04:59:51</td>\n",
       "      <td>58.0</td>\n",
       "      <td>0.0</td>\n",
       "      <td>2022-08-04 04:59:51</td>\n",
       "      <td>2022</td>\n",
       "      <td>2022-08-04</td>\n",
       "      <td>4:59</td>\n",
       "    </tr>\n",
       "  </tbody>\n",
       "</table>\n",
       "</div>"
      ],
      "text/plain": [
       "        stationID         obsTimeLocal  imperial.temp  imperial.precipTotal  \\\n",
       "132  KWASEATT2743  2022-08-04 00:59:44           59.0                   0.0   \n",
       "133  KWASEATT2743  2022-08-04 01:59:59           59.0                   0.0   \n",
       "134  KWASEATT2743  2022-08-04 02:59:56           59.0                   0.0   \n",
       "135  KWASEATT2743  2022-08-04 03:59:54           58.0                   0.0   \n",
       "136  KWASEATT2743  2022-08-04 04:59:51           58.0                   0.0   \n",
       "\n",
       "               datetime  year        date TimeOnly  \n",
       "132 2022-08-04 00:59:44  2022  2022-08-04     0:59  \n",
       "133 2022-08-04 01:59:59  2022  2022-08-04     1:59  \n",
       "134 2022-08-04 02:59:56  2022  2022-08-04     2:59  \n",
       "135 2022-08-04 03:59:54  2022  2022-08-04     3:59  \n",
       "136 2022-08-04 04:59:51  2022  2022-08-04     4:59  "
      ]
     },
     "execution_count": 2,
     "metadata": {},
     "output_type": "execute_result"
    }
   ],
   "source": [
    "# Read in the weather data, filter it down to just Seattle and Sequim, select time, temp and precip columns,\n",
    "# and create proper date and time objects.\n",
    "\n",
    "df = pd.read_parquet(\"weather_data.parquet\")\n",
    "df_wa = df.query('stationID in [\"KWASEATT2743\", \"KWASEQUI431\"]').\\\n",
    "filter(items=['stationID','obsTimeLocal','imperial.temp','imperial.precipTotal']).\\\n",
    "copy()\n",
    "\n",
    "df_wa['datetime'] = pd.to_datetime(df_wa['obsTimeLocal'])\n",
    "df_wa['year'] = df_wa['datetime'].dt.year\n",
    "df_wa['date'] = df_wa['datetime'].dt.date\n",
    "df_wa['TimeOnly']=df_wa['datetime'].dt.strftime('%-H:%-M')\n",
    "\n",
    "df_wa.head()"
   ]
  },
  {
   "cell_type": "code",
   "execution_count": 3,
   "id": "59bd25d1-67bb-4cab-94ca-4b2c617f5a3c",
   "metadata": {},
   "outputs": [
    {
     "data": {
      "text/html": [
       "<div>\n",
       "<style scoped>\n",
       "    .dataframe tbody tr th:only-of-type {\n",
       "        vertical-align: middle;\n",
       "    }\n",
       "\n",
       "    .dataframe tbody tr th {\n",
       "        vertical-align: top;\n",
       "    }\n",
       "\n",
       "    .dataframe thead th {\n",
       "        text-align: right;\n",
       "    }\n",
       "</style>\n",
       "<table border=\"1\" class=\"dataframe\">\n",
       "  <thead>\n",
       "    <tr style=\"text-align: right;\">\n",
       "      <th></th>\n",
       "      <th>stationID</th>\n",
       "      <th>obsTimeLocal</th>\n",
       "      <th>imperial.temp</th>\n",
       "      <th>imperial.precipTotal</th>\n",
       "      <th>datetime</th>\n",
       "      <th>year</th>\n",
       "      <th>date</th>\n",
       "      <th>TimeOnly</th>\n",
       "    </tr>\n",
       "  </thead>\n",
       "  <tbody>\n",
       "    <tr>\n",
       "      <th>194</th>\n",
       "      <td>KWASEATT2743</td>\n",
       "      <td>2022-08-06 14:59:48</td>\n",
       "      <td>81.0</td>\n",
       "      <td>0.0</td>\n",
       "      <td>2022-08-06 14:59:48</td>\n",
       "      <td>2022</td>\n",
       "      <td>2022-08-06</td>\n",
       "      <td>14:59</td>\n",
       "    </tr>\n",
       "    <tr>\n",
       "      <th>195</th>\n",
       "      <td>KWASEATT2743</td>\n",
       "      <td>2022-08-06 15:59:45</td>\n",
       "      <td>81.0</td>\n",
       "      <td>0.0</td>\n",
       "      <td>2022-08-06 15:59:45</td>\n",
       "      <td>2022</td>\n",
       "      <td>2022-08-06</td>\n",
       "      <td>15:59</td>\n",
       "    </tr>\n",
       "    <tr>\n",
       "      <th>216</th>\n",
       "      <td>KWASEATT2743</td>\n",
       "      <td>2022-08-07 12:59:59</td>\n",
       "      <td>83.0</td>\n",
       "      <td>0.0</td>\n",
       "      <td>2022-08-07 12:59:59</td>\n",
       "      <td>2022</td>\n",
       "      <td>2022-08-07</td>\n",
       "      <td>12:59</td>\n",
       "    </tr>\n",
       "    <tr>\n",
       "      <th>217</th>\n",
       "      <td>KWASEATT2743</td>\n",
       "      <td>2022-08-07 13:59:56</td>\n",
       "      <td>84.0</td>\n",
       "      <td>0.0</td>\n",
       "      <td>2022-08-07 13:59:56</td>\n",
       "      <td>2022</td>\n",
       "      <td>2022-08-07</td>\n",
       "      <td>13:59</td>\n",
       "    </tr>\n",
       "    <tr>\n",
       "      <th>218</th>\n",
       "      <td>KWASEATT2743</td>\n",
       "      <td>2022-08-07 14:59:54</td>\n",
       "      <td>85.0</td>\n",
       "      <td>0.0</td>\n",
       "      <td>2022-08-07 14:59:54</td>\n",
       "      <td>2022</td>\n",
       "      <td>2022-08-07</td>\n",
       "      <td>14:59</td>\n",
       "    </tr>\n",
       "  </tbody>\n",
       "</table>\n",
       "</div>"
      ],
      "text/plain": [
       "        stationID         obsTimeLocal  imperial.temp  imperial.precipTotal  \\\n",
       "194  KWASEATT2743  2022-08-06 14:59:48           81.0                   0.0   \n",
       "195  KWASEATT2743  2022-08-06 15:59:45           81.0                   0.0   \n",
       "216  KWASEATT2743  2022-08-07 12:59:59           83.0                   0.0   \n",
       "217  KWASEATT2743  2022-08-07 13:59:56           84.0                   0.0   \n",
       "218  KWASEATT2743  2022-08-07 14:59:54           85.0                   0.0   \n",
       "\n",
       "               datetime  year        date TimeOnly  \n",
       "194 2022-08-06 14:59:48  2022  2022-08-06    14:59  \n",
       "195 2022-08-06 15:59:45  2022  2022-08-06    15:59  \n",
       "216 2022-08-07 12:59:59  2022  2022-08-07    12:59  \n",
       "217 2022-08-07 13:59:56  2022  2022-08-07    13:59  \n",
       "218 2022-08-07 14:59:54  2022  2022-08-07    14:59  "
      ]
     },
     "execution_count": 3,
     "metadata": {},
     "output_type": "execute_result"
    }
   ],
   "source": [
    "df_wa.query(\"`imperial.temp` > 80\").head()"
   ]
  },
  {
   "cell_type": "code",
   "execution_count": 4,
   "id": "e50a78db-db50-4e75-b13e-cfc6c29c3da6",
   "metadata": {},
   "outputs": [
    {
     "name": "stdout",
     "output_type": "stream",
     "text": [
      "<class 'pandas.core.frame.DataFrame'>\n",
      "Index: 19156 entries, 132 to 58337\n",
      "Data columns (total 8 columns):\n",
      " #   Column                Non-Null Count  Dtype         \n",
      "---  ------                --------------  -----         \n",
      " 0   stationID             19156 non-null  object        \n",
      " 1   obsTimeLocal          19156 non-null  object        \n",
      " 2   imperial.temp         19156 non-null  float64       \n",
      " 3   imperial.precipTotal  19156 non-null  float64       \n",
      " 4   datetime              19156 non-null  datetime64[ns]\n",
      " 5   year                  19156 non-null  int32         \n",
      " 6   date                  19156 non-null  object        \n",
      " 7   TimeOnly              19156 non-null  object        \n",
      "dtypes: datetime64[ns](1), float64(2), int32(1), object(4)\n",
      "memory usage: 1.2+ MB\n"
     ]
    }
   ],
   "source": [
    "df_wa.info()"
   ]
  },
  {
   "cell_type": "code",
   "execution_count": 5,
   "id": "80d0dbb7-b418-4488-9dec-d121b53d23e4",
   "metadata": {},
   "outputs": [],
   "source": [
    "'''Verify that the time of day makes sense.  DO this by looking at a day where the temps got above 80 deg in Seattle.\n",
    "The time of day should be around 3 or 4 PM.'''\n",
    "\n",
    "import datetime\n",
    "# what is the column data type?  ans: 'datetime'\n",
    "df_wa['date'].iloc[0]\n",
    "\n",
    "hot_day = df_wa.query('date == @datetime.date(2022, 8, 6) & stationID == \"KWASEATT2743\"').\\\n",
    "filter(items=['stationID','imperial.temp','datetime', 'TimeOnly']).copy()\n",
    "\n",
    "hot_day.rename(columns={\"imperial.temp\":\"temp\"}, inplace=True)"
   ]
  },
  {
   "cell_type": "code",
   "execution_count": 6,
   "id": "5bb5e39e-a6af-42a4-a315-6020199af651",
   "metadata": {},
   "outputs": [
    {
     "data": {
      "image/png": "[encoded data removed]",
      "text/plain": [
       "<Figure size 1200x600 with 1 Axes>"
      ]
     },
     "metadata": {},
     "output_type": "display_data"
    }
   ],
   "source": [
    "# Plot this junk\n",
    "sb.set_theme()\n",
    "sb.set(rc={'figure.figsize':(12,6)})\n",
    "sb.lineplot(hot_day, x=\"TimeOnly\", y=\"temp\").set_title('Aug 6, 2022 Hourly Temps')\n",
    "plt.xticks(rotation=45, ha='right')\n",
    "plt.axvline(x=14, color='red')\n",
    "plt.show()"
   ]
  },
  {
   "cell_type": "code",
   "execution_count": 7,
   "id": "a69d4918-e21d-4a5c-9ecb-4b71d30103f2",
   "metadata": {},
   "outputs": [
    {
     "data": {
      "text/plain": [
       "'/home/randre/temp'"
      ]
     },
     "execution_count": 7,
     "metadata": {},
     "output_type": "execute_result"
    }
   ],
   "source": [
    "import os\n",
    "os.getcwd()"
   ]
  }
 ],
 "metadata": {
  "kernelspec": {
   "display_name": "Python 3 (ipykernel)",
   "language": "python",
   "name": "python3"
  },
  "language_info": {
   "codemirror_mode": {
    "name": "ipython",
    "version": 3
   },
   "file_extension": ".py",
   "mimetype": "text/x-python",
   "name": "python",
   "nbconvert_exporter": "python",
   "pygments_lexer": "ipython3",
   "version": "3.9.14"
  }
 },
 "nbformat": 4,
 "nbformat_minor": 5
}
